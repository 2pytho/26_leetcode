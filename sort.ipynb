{
 "cells": [
  {
   "cell_type": "markdown",
   "metadata": {},
   "source": [
    "# 排序\n",
    "## 冒泡排序\n",
    "最优时间复杂度：O(n)表示遍历一次没有发现任何可以交换的元素，排序结束\n",
    "最坏时间复杂度：O(n^2)\n",
    "稳定性：稳定\n",
    "\n",
    "## "
   ]
  },
  {
   "cell_type": "code",
   "execution_count": 20,
   "metadata": {},
   "outputs": [
    {
     "name": "stdout",
     "output_type": "stream",
     "text": [
      "[17, 20, 26, 31, 44, 54, 55, 77, 93]\n"
     ]
    }
   ],
   "source": [
    "def Bubble_Sort(li):\n",
    "    for i in range(len(li)-1):\n",
    "        for j in range(i+1,len(li)):\n",
    "            if li[i]>li[j]:\n",
    "                li[i],li[j] = li[j],li[i]\n",
    "            \n",
    "if __name__ =='__main__':\n",
    "    li = [54, 26, 93, 17, 77, 31, 44, 55, 20]\n",
    "    Bubble_Sort(li)\n",
    "    print(li)\n"
   ]
  },
  {
   "cell_type": "markdown",
   "metadata": {},
   "source": [
    "# 时间复杂度\n",
    "\n",
    "(知乎) https://zhuanlan.zhihu.com/p/50479555\n",
    "\n",
    "常见的时间复杂度量级有：\n",
    "常数阶O(1)\n",
    "对数阶O(logN)\n",
    "线性阶O(n)\n",
    "线性对数阶O(nlogN)\n",
    "平方阶O(n²)\n",
    "立方阶O(n³)\n",
    "K次方阶O(n^k)\n",
    "指数阶(2^n)\n",
    "上面从上至下依次的时间复杂度越来越大，执行的效率越来越低\n",
    "\n"
   ]
  },
  {
   "cell_type": "markdown",
   "metadata": {},
   "source": [
    "# 选择排序\n",
    "从无序中找到最小的依次排序\n",
    "选择排序是一种简单直观的排序算法。他的工作原理如下，\n",
    "## 方法\n",
    "首先在排序序列中找到最小的元素，存放到排序序列的起始位置，\n",
    "然后，再从剩余未排到元素中继续寻找最小元素，\n",
    "然后放到已排序序列的末尾。以此类推。。。\n",
    "## 优点\n",
    "选择排序的主要优点与数据移动有关\n",
    "最优时间复杂度：O(n^2)\n",
    "最坏时间复杂度：O(n^2)\n",
    "稳定性：不确定(考虑升序每次选择最大的情况)"
   ]
  },
  {
   "cell_type": "code",
   "execution_count": 22,
   "metadata": {},
   "outputs": [
    {
     "name": "stdout",
     "output_type": "stream",
     "text": [
      "[17, 20, 26, 31, 44, 54, 55, 77, 93]\n"
     ]
    }
   ],
   "source": [
    "def Select_Sort(li):\n",
    "    for i in range(len(li)-1):\n",
    "        num = i\n",
    "        for j in range(i+1,len(li)):\n",
    "            if li[j] < li[num]:\n",
    "                num = j\n",
    "        li[i],li[num] = li[num],li[i]\n",
    "            \n",
    "if __name__ =='__main__':\n",
    "    li = [54, 26, 93, 17, 77, 31, 44, 55, 20]\n",
    "    Select_Sort(li)\n",
    "    print(li)"
   ]
  },
  {
   "cell_type": "markdown",
   "metadata": {},
   "source": [
    "# 插入排序\n",
    "从后面选中一个，在前面进行排序，和选择是相反的，选择排序是选大小再排序，而插入排序是先选数，再排大小\n",
    "最优时间复杂度：O(n) (升序排列，序列已经处于升序状态)\n",
    "最坏时间复杂度：O(n^2)\n",
    "稳定性：稳定\n",
    "\n"
   ]
  },
  {
   "cell_type": "code",
   "execution_count": 26,
   "metadata": {},
   "outputs": [
    {
     "name": "stdout",
     "output_type": "stream",
     "text": [
      "[17, 20, 26, 31, 44, 54, 55, 77, 93]\n"
     ]
    }
   ],
   "source": [
    "def Insert_Sort(li):\n",
    "    for i in range(len(li)):\n",
    "        j = i\n",
    "        while(j>0):\n",
    "            if li[j-1] > li[j]:\n",
    "                li[j-1] ,li[j] = li[j] ,li[j-1]\n",
    "            else:\n",
    "                break;\n",
    "            j-=1\n",
    "           \n",
    "if __name__ =='__main__':\n",
    "    li = [54, 26, 93, 17, 77, 31, 44, 55, 20]\n",
    "    Insert_Sort(li)\n",
    "    print(li)"
   ]
  },
  {
   "cell_type": "markdown",
   "metadata": {},
   "source": [
    "# 快速排序\n",
    "将第一个数存储起来，左右各一个指针，右边指针向左移动，由于第一个数被取出，首先移动右边指针，当数大于第一个数时，则向左移动，比第一个小的时候就停下来，将这个数放到第一位，此时左边指针向右移动，遇到比第一个数小的数就持续向右移动，遇到比第一个数大的数就停下来，把这个数放到右边，开始右边指针移动，以此类推，当两个指针重合时，此时就找到第一个数的位置了，此数两边，再各成一个子列进行上述操作。\n",
    "最优时间复杂度：O(nlogn) 在竖向上，是2^x = n,解出来x=logn，因为每次都会产生一倍，第一次产生了两个子列，逐渐对半，最后到每个元素只剩自身一个的时候终止，\n",
    "但是总和依然是n，所以是logn，横向上一共是n，所以总和是n*logn\n",
    "最坏时间复杂：竖向上每次都是第一个，那么有n个，横向上还是n，则是n*n\n",
    "稳定性：不稳定，因为有跳跃取值，不像冒泡，冒泡之所以稳定，不存在跳跃取值。\n"
   ]
  },
  {
   "cell_type": "code",
   "execution_count": 39,
   "metadata": {},
   "outputs": [
    {
     "name": "stdout",
     "output_type": "stream",
     "text": [
      "[17, 20, 26, 31, 44, 54, 55, 77, 93]\n"
     ]
    }
   ],
   "source": [
    "def Quick_Sort(li,first,last):\n",
    "    font = first \n",
    "    end = last\n",
    "\n",
    "    if font >= end:\n",
    "        return\n",
    "    middle = li[first]\n",
    "    #print(font,end,middle)\n",
    "    while font < end:\n",
    "        while font < end and li[end] >= middle:\n",
    "            end -= 1\n",
    "        li[font] = li[end]\n",
    "        while font < end and li[font] < middle:\n",
    "            font += 1\n",
    "        li[end] = li[font]\n",
    "    li[font] = middle\n",
    "    #print(li)\n",
    "    Quick_Sort(li,first,font-1)\n",
    "    Quick_Sort(li,font+1,last)\n",
    "    \n",
    "           \n",
    "if __name__ =='__main__':\n",
    "    li = [54, 26, 93, 17, 77, 31, 44, 55, 20]\n",
    "    Quick_Sort(li,0,len(li)-1)\n",
    "    print(li)"
   ]
  },
  {
   "cell_type": "markdown",
   "metadata": {},
   "source": [
    "# 希尔排序\n",
    "希尔排序是插入排序的一种，也成缩小增量排序，是直接插入排序算法的一种更高效的改进版本。希尔排序是非稳定排序算法。希尔排序是把记录按下标的一定增量分组，对每组使用直接插入排序算法排序，随着增量逐渐减少，每组包含的关键词越来越多，当增量减少至1时，整个文件掐被分成一组，算法被终止。\n",
    "把原来一组分成多组，对每组使用插入排序，再合并，然后减少间隔数，在分组，在排序，再合并，以此类推，取好间隔的话，确实可以有效的降低时间复杂度\n",
    "最有时间复杂度：根据步长序列的不同而不同\n",
    "最坏时间复杂度：O(n^2)\n",
    "稳定性：不稳定\n",
    "\n",
    "\n",
    "## 没什么用"
   ]
  },
  {
   "cell_type": "code",
   "execution_count": 55,
   "metadata": {},
   "outputs": [
    {
     "name": "stdout",
     "output_type": "stream",
     "text": [
      "4\n",
      "2\n",
      "1\n",
      "[17, 20, 26, 44, 31, 54, 55, 77, 93]\n"
     ]
    }
   ],
   "source": [
    "def Shell_Sort(li):\n",
    "    gap = len(li)//2\n",
    "    while gap>0:\n",
    "        print(gap)\n",
    "        for i in range(gap,len(li)):\n",
    "            j = i - gap\n",
    "            if j >=0:\n",
    "                if li[j] > li[j+gap]:\n",
    "                    li[j] ,li[j+gap] = li[j+gap] ,li[j]\n",
    "        gap//=2\n",
    "               \n",
    "if __name__ =='__main__':\n",
    "    li = [54, 26, 93, 17, 77, 31, 44, 55, 20]\n",
    "    Shell_Sort(li)\n",
    "    print(li)"
   ]
  },
  {
   "cell_type": "markdown",
   "metadata": {},
   "source": [
    "# 归并排序\n",
    "归并排序是采用分治法的一个非常典型的应用。归并排序的思想就是先递归分解数组，再合并数组\n",
    "\n",
    "将数据分解到最小之后，然后合并两个有序数组，基本思想是比较两个数组的最前面的数，谁小就先取谁，取了后相应的指针就往后移一位。然后再比较，直至一个数组为空，最后把另一个数组的剩余部分赋值过来即可\n",
    "\n",
    "最优时间复杂度：O(nlogn)\n",
    "最坏时间复杂度：O(nlogn)\n",
    "稳定性：稳定\n",
    "归并算法是涉及到额外的开销，这是和其他几种排序算法所不同的，但是归并算法确实可以有效的减少最坏时间复杂\n",
    "\n",
    "## 好好理解\n"
   ]
  },
  {
   "cell_type": "code",
   "execution_count": 60,
   "metadata": {},
   "outputs": [
    {
     "name": "stdout",
     "output_type": "stream",
     "text": [
      "[54, 26, 93, 17, 77, 31, 44, 55, 20]\n",
      "ALL [54, 26, 93, 17, 77, 31, 44, 55, 20]\n",
      "ALL [54, 26, 93, 17]\n",
      "ALL [54, 26]\n",
      "ALL [54]\n",
      "ALL [26]\n",
      "[54] [26]\n",
      "return [26, 54]\n",
      "ALL [93, 17]\n",
      "ALL [93]\n",
      "ALL [17]\n",
      "[93] [17]\n",
      "return [17, 93]\n",
      "[26, 54] [17, 93]\n",
      "return [17, 26, 54, 93]\n",
      "ALL [77, 31, 44, 55, 20]\n",
      "ALL [77, 31]\n",
      "ALL [77]\n",
      "ALL [31]\n",
      "[77] [31]\n",
      "return [31, 77]\n",
      "ALL [44, 55, 20]\n",
      "ALL [44]\n",
      "ALL [55, 20]\n",
      "ALL [55]\n",
      "ALL [20]\n",
      "[55] [20]\n",
      "return [20, 55]\n",
      "[44] [20, 55]\n",
      "return [20, 44, 55]\n",
      "[31, 77] [20, 44, 55]\n",
      "return [20, 31, 44, 55, 77]\n",
      "[17, 26, 54, 93] [20, 31, 44, 55, 77]\n",
      "return [17, 20, 26, 31, 44, 54, 55, 77, 93]\n",
      "[17, 20, 26, 31, 44, 54, 55, 77, 93]\n"
     ]
    }
   ],
   "source": [
    "# 归并排序\n",
    "def merge_sort(alist):\n",
    "    n = len(alist)\n",
    "    print(\"ALL\",alist)\n",
    "    if n <= 1:\n",
    "        # 这个地方一定要有返回值，因为alist是被分解成的单一的元素\n",
    "        return alist\n",
    "    mid = n // 2\n",
    " \n",
    "    # left 采用递归排序后形成的新序列\n",
    "    left_li = merge_sort(alist[:mid])\n",
    " \n",
    "    # right 采用递归排序后形成的新序列\n",
    "    right_li = merge_sort(alist[mid:])\n",
    " \n",
    "    print(left_li,right_li)\n",
    " \n",
    "    # 将两个子序列合并成一个序列\n",
    "    # 左右指针\n",
    "    left_pointer, right_pointer = 0, 0\n",
    "    result = []\n",
    " \n",
    "    while left_pointer < len(left_li) and right_pointer < len(right_li):\n",
    "        if left_li[left_pointer] <= right_li[right_pointer]:\n",
    "            result.append(left_li[left_pointer])\n",
    "            left_pointer += 1\n",
    "        else:\n",
    "            result.append(right_li[right_pointer])\n",
    "            right_pointer += 1\n",
    " \n",
    "    # 此时还有最后一个元素没有加入到列表中，切片是没有越界的，它返回一个空列表\n",
    "    result += left_li[left_pointer:]\n",
    "    result += right_li[right_pointer:]\n",
    "    print(\"return\",result)\n",
    "    return result\n",
    " \n",
    "if __name__ == '__main__':\n",
    "    li = [54, 26, 93, 17, 77, 31, 44, 55, 20]\n",
    "    print(li)\n",
    "    sort_li = merge_sort(li)\n",
    "    print(sort_li)"
   ]
  },
  {
   "cell_type": "code",
   "execution_count": null,
   "metadata": {},
   "outputs": [],
   "source": []
  }
 ],
 "metadata": {
  "kernelspec": {
   "display_name": "Python (tensorflow)",
   "language": "python",
   "name": "tensorflow"
  },
  "language_info": {
   "codemirror_mode": {
    "name": "ipython",
    "version": 3
   },
   "file_extension": ".py",
   "mimetype": "text/x-python",
   "name": "python",
   "nbconvert_exporter": "python",
   "pygments_lexer": "ipython3",
   "version": "3.6.8"
  }
 },
 "nbformat": 4,
 "nbformat_minor": 2
}
